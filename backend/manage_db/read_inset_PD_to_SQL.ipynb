{
 "cells": [
  {
   "cell_type": "code",
   "execution_count": 1,
   "metadata": {},
   "outputs": [],
   "source": [
    "import pandas as pd\n",
    "import numpy as np\n",
    "from sqlalchemy import create_engine\n",
    "from create_connection import db_file\n",
    "from pathlib import Path\n",
    "from datetime import datetime\n",
    "\n",
    "db_file_path_str = str(Path().cwd().parent.parent.joinpath(Path(db_file)))\n",
    "\n",
    "engine = create_engine(f'sqlite:///{db_file_path_str}')"
   ]
  },
  {
   "cell_type": "code",
   "execution_count": null,
   "metadata": {},
   "outputs": [],
   "source": [
    "query = '''SELECT sqlite_version()'''\n",
    "\n",
    "with engine.connect() as conn, conn.begin():\n",
    "    data = pd.read_sql(query, conn)\n",
    "\n",
    "data"
   ]
  },
  {
   "cell_type": "code",
   "execution_count": null,
   "metadata": {},
   "outputs": [],
   "source": [
    "query1 = \"\"\" SELECT * FROM usuarios \"\"\"\n",
    "query2 = \"\"\" SELECT * FROM usuarios WHERE usuario = 'Lic' \"\"\"\n",
    "\n",
    "with engine.connect() as conn, conn.begin():\n",
    "    data = pd.read_sql(query2, conn)\n",
    "\n",
    "data"
   ]
  },
  {
   "cell_type": "code",
   "execution_count": null,
   "metadata": {},
   "outputs": [],
   "source": [
    "with engine.connect() as conn, conn.begin():  \n",
    "    data = pd.read_sql_table('usuarios', conn)\n",
    "\n",
    "data"
   ]
  },
  {
   "cell_type": "code",
   "execution_count": 11,
   "metadata": {},
   "outputs": [],
   "source": [
    "archivo_excel = './datos.xlsx'\n",
    "    \n",
    "df = pd.read_excel(archivo_excel, 'usuarios')\n",
    "\n",
    "with engine.connect() as conn, conn.begin():  \n",
    "    df.to_sql(name = 'wep', con = conn, if_exists = 'replace')"
   ]
  }
 ],
 "metadata": {
  "kernelspec": {
   "display_name": "env-Los_Zopilotes",
   "language": "python",
   "name": "python3"
  },
  "language_info": {
   "codemirror_mode": {
    "name": "ipython",
    "version": 3
   },
   "file_extension": ".py",
   "mimetype": "text/x-python",
   "name": "python",
   "nbconvert_exporter": "python",
   "pygments_lexer": "ipython3",
   "version": "3.11.5"
  },
  "orig_nbformat": 4
 },
 "nbformat": 4,
 "nbformat_minor": 2
}
